{
 "cells": [
  {
   "cell_type": "markdown",
   "id": "134319d5-15fe-4e89-b520-59d116678f40",
   "metadata": {},
   "source": [
    "# Домашнє завдання до теми \"Вступ до теорії ймовірності\""
   ]
  },
  {
   "cell_type": "markdown",
   "id": "f6337512-cf72-4821-8921-33ea4e21715c",
   "metadata": {},
   "source": [
    "1.1. Ви —  продакт менеджер в компанії, яка займається мобільними додатками. Ваша модель монетизації — підписка. У травні 2019 року до вас приєдналося 100 підписників, у червні — 150, у липні — 170. Скільки ці користувачі принесли вам до початку травня 2021 року (за два роки), якщо щомісячний рівень відтоку становить 5%, а підписка коштує $10?"
   ]
  },
  {
   "cell_type": "code",
   "execution_count": 125,
   "id": "abb29769-9359-4e26-8bae-9f88ea4f26b5",
   "metadata": {},
   "outputs": [
    {
     "data": {
      "text/plain": [
       "[14160.21951322454, 20779.293968249276, 22999.859470893873]"
      ]
     },
     "metadata": {},
     "output_type": "display_data"
    },
    {
     "data": {
      "text/plain": [
       "57939.37295236769"
      ]
     },
     "metadata": {},
     "output_type": "display_data"
    }
   ],
   "source": [
    "subscribers_by_month = [100, 150, 170]\n",
    "price = 10\n",
    "churn_rate = 0.05\n",
    "period = 24\n",
    "\n",
    "month_revenues = []\n",
    "\n",
    "def calculation_month_revenue(subscribers: int, period: int, churn_rate: int, price: int) -> int:\n",
    "    q = 1 - churn_rate\n",
    "    total_month_revenue = price * subscribers * ((1 - q ** period)/(1 - q))\n",
    "    return total_month_revenue\n",
    "\n",
    "for subscribers in subscribers_by_month:\n",
    "    if (period > 0):\n",
    "        total_month_revenue = calculation_month_revenue(subscribers, period, churn_rate, price)\n",
    "        month_revenues.append(total_month_revenue)\n",
    "        period -= 1\n",
    "\n",
    "total_revenue = sum(month_revenues)\n",
    "display(month_revenues, total_revenue)"
   ]
  },
  {
   "cell_type": "markdown",
   "id": "ca7b159e-5748-401e-aa2c-a134256eff7d",
   "metadata": {},
   "source": [
    "1.2. Ви — менеджер по роботі з продуктом в компанії, яка розробляє мобільні ігри. У січні 2020 року у вас було 2000 активних користувачів. Щомісяця кількість нових користувачів зростає на 3%, але водночас 2% існуючих користувачів перестають користуватися додатком. У результаті, ефективне зростання активних користувачів складає 1% щомісяця.\n",
    "\n",
    "Ваша мета — визначити кумулятивну кількість активних користувачів за весь період від січня 2020 року до кінця грудня 2021 року (тобто за 24 місяці), враховуючи щомісячний приріст 1%.\n",
    "    \n",
    "**Питання**: Якою буде загальна кількість активних користувачів, накопичена за 24 місяці?"
   ]
  },
  {
   "cell_type": "code",
   "execution_count": 128,
   "id": "19ae1f32-de68-4603-8cdf-622c975cc628",
   "metadata": {},
   "outputs": [
    {
     "data": {
      "text/plain": [
       "1.01"
      ]
     },
     "metadata": {},
     "output_type": "display_data"
    },
    {
     "data": {
      "text/plain": [
       "53946.9297063829"
      ]
     },
     "metadata": {},
     "output_type": "display_data"
    }
   ],
   "source": [
    "subscribers = 2000\n",
    "churn_rate = 0.02\n",
    "growth_rate = 0.03\n",
    "period = 24\n",
    "\n",
    "def calculation_total_subscribers(subscribers: int, churn_rate: int, growth_rate: int, period: int) -> int:\n",
    "    q = 1 + growth_rate - churn_rate\n",
    "    display(q)\n",
    "    total_subscribers = subscribers * ((1 - q ** period)/(1 - q))\n",
    "    return total_subscribers\n",
    "\n",
    "total_subscribers = calculation_total_subscribers(subscribers, churn_rate, growth_rate, period)\n",
    "display(total_subscribers)"
   ]
  },
  {
   "cell_type": "markdown",
   "id": "1d3dfbd4-e79d-4800-a4ed-fe40aae9dafd",
   "metadata": {},
   "source": [
    "1.3. Ви — менеджер з розвитку бізнесу в компанії, що займається створенням платформи для онлайн-курсів. У січні 2021 року ви залучили 500 нових користувачів. У лютому кількість нових користувачів зросла на 50%, у березні — ще на 20%. З квітня приріст нових користувачів стабілізувався на рівні 10% щомісяця. Скільки активних користувачів ви мали загалом за перше півріччя 2021 року?"
   ]
  },
  {
   "cell_type": "code",
   "execution_count": 130,
   "id": "0e770f3e-1435-4d22-a5c5-6065997a14c8",
   "metadata": {},
   "outputs": [
    {
     "data": {
      "text/plain": [
       "[500, 750.0, 900.0, 990.0000000000001, 1089.0000000000002, 1197.9000000000003]"
      ]
     },
     "metadata": {},
     "output_type": "display_data"
    },
    {
     "data": {
      "text/plain": [
       "5426.900000000001"
      ]
     },
     "metadata": {},
     "output_type": "display_data"
    }
   ],
   "source": [
    "month_subscribers = [500]\n",
    "growth_rates_by_month = [0.5, 0.2, 0.1]\n",
    "period = 6\n",
    "\n",
    "def calculation_month_subscribers(subscribers: int, growth_rate: int) -> int:\n",
    "    q = 1 + growth_rate\n",
    "    total_subscribers = subscribers * q\n",
    "    return total_subscribers\n",
    "\n",
    "for i in range(period - 1):\n",
    "    if len(growth_rates_by_month) > i:\n",
    "        growth_rate = growth_rates_by_month[i]\n",
    "    else:\n",
    "        growth_rate = growth_rates_by_month[-1]\n",
    "    total_month_subscribers = calculation_month_subscribers(month_subscribers[i], growth_rate)\n",
    "    month_subscribers.append(total_month_subscribers)\n",
    "\n",
    "total_subscribers = sum(month_subscribers)\n",
    "display(month_subscribers, total_subscribers)"
   ]
  }
 ],
 "metadata": {
  "kernelspec": {
   "display_name": "Python 3 (ipykernel)",
   "language": "python",
   "name": "python3"
  },
  "language_info": {
   "codemirror_mode": {
    "name": "ipython",
    "version": 3
   },
   "file_extension": ".py",
   "mimetype": "text/x-python",
   "name": "python",
   "nbconvert_exporter": "python",
   "pygments_lexer": "ipython3",
   "version": "3.12.4"
  }
 },
 "nbformat": 4,
 "nbformat_minor": 5
}
