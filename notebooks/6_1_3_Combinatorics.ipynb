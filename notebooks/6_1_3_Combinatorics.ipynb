{
 "cells": [
  {
   "cell_type": "markdown",
   "id": "a13823d4-8d31-4307-8e8e-b91b5a53b394",
   "metadata": {},
   "source": [
    "# Домашнє завдання до теми \"Комбінаторика\""
   ]
  },
  {
   "cell_type": "markdown",
   "id": "e5fe8798-2b66-4c28-869f-23545e34ba79",
   "metadata": {},
   "source": [
    "1. Скільки різних паролів можна скласти, використовуючи три літери англійського алфавіту, якщо літери не повинні повторюватися?"
   ]
  },
  {
   "cell_type": "markdown",
   "id": "004a9fa3-beb5-4e8c-9264-508837ba52cb",
   "metadata": {},
   "source": [
    "Маю розрахувати скільки можливих комбінацій літер я отримаю, при розміщенні 26 літер (кількість в англійському алфавіті) в 3 позиціях, де позицій меньше ніж літер та порядок перестановки має значення в данному випадку."
   ]
  },
  {
   "cell_type": "code",
   "execution_count": 22,
   "id": "71cbe914-c600-4b70-bade-360ea89f93bb",
   "metadata": {},
   "outputs": [
    {
     "data": {
      "text/plain": [
       "15600.0"
      ]
     },
     "execution_count": 22,
     "metadata": {},
     "output_type": "execute_result"
    }
   ],
   "source": [
    "n = 26\n",
    "r = 3\n",
    "\n",
    "def calculation_permutation_without_repetition(n: int, r: int) -> int:\n",
    "    # Pnr = n! / (n - r)! \n",
    "    Pnr = calculation_factorial(n) / calculation_factorial(n - r)\n",
    "    return Pnr\n",
    "\n",
    "def calculation_factorial(n: int) -> int:\n",
    "    factorial = 1\n",
    "    for i in range(2, n + 1):\n",
    "        factorial *= i\n",
    "    return factorial\n",
    "\n",
    "calculation_permutation_without_repetition(n, r)"
   ]
  },
  {
   "cell_type": "markdown",
   "id": "8974f176-7c82-4d1a-b709-054d38ec1916",
   "metadata": {},
   "source": [
    "2. Є група з 8 людей. Скількома способами можна обрати комітет із 3 осіб?"
   ]
  },
  {
   "cell_type": "markdown",
   "id": "b59be897-79d9-4474-ab86-117b8d66ccc7",
   "metadata": {},
   "source": [
    "Маю розрахувати скільки можливих комбінацій осіб я отримаю, при перестановці 8 осіб в 3 позиціях для комітету, де порядок перестановки не має значення в данному випадку."
   ]
  },
  {
   "cell_type": "code",
   "execution_count": 18,
   "id": "9f8ac9c6-ac7d-4233-8c23-51f8e8b821e6",
   "metadata": {},
   "outputs": [
    {
     "data": {
      "text/plain": [
       "56.0"
      ]
     },
     "execution_count": 18,
     "metadata": {},
     "output_type": "execute_result"
    }
   ],
   "source": [
    "n = 8\n",
    "r = 3\n",
    "\n",
    "def calculation_combination_without_repetition(n: int, r: int) -> int:\n",
    "    # Cnr = n! / (n - r)! * r!\n",
    "    Cnr = calculation_factorial(n) / (calculation_factorial(n - r) * calculation_factorial(r))\n",
    "    return Cnr\n",
    "\n",
    "calculation_combination_without_repetition(n, r)"
   ]
  },
  {
   "cell_type": "markdown",
   "id": "d259a279-56ba-4473-91cb-f56487a05f72",
   "metadata": {},
   "source": [
    "3. Скількома різними способами можна розташувати на полиці 5 різних книг?"
   ]
  },
  {
   "cell_type": "markdown",
   "id": "5fcaf80c-56e0-431c-bdfa-b70cb00994d8",
   "metadata": {},
   "source": [
    "Маю розрахувати скільки можливих комбінацій книг я отримаю, при перестановці їх на полиці, де порядок перестановки не має значення в данному випадку."
   ]
  },
  {
   "cell_type": "code",
   "execution_count": 26,
   "id": "a1ae8b33-a467-496f-907f-9c9c318cde42",
   "metadata": {},
   "outputs": [
    {
     "data": {
      "text/plain": [
       "120"
      ]
     },
     "execution_count": 26,
     "metadata": {},
     "output_type": "execute_result"
    }
   ],
   "source": [
    "n = 5\n",
    "\n",
    "def calculation_permutation_without_repetition(n: int) -> int:\n",
    "    # Pn = n * (n - 1) * ... * 1 = n! \n",
    "    Pn = calculation_factorial(n)\n",
    "    return Pn\n",
    "\n",
    "calculation_permutation_without_repetition(n)"
   ]
  },
  {
   "cell_type": "markdown",
   "id": "9ba3858d-ecd5-42ce-a7e4-80121e87cf92",
   "metadata": {},
   "source": [
    "4. В урні знаходяться 4 червоні, 3 сині і 2 зелені кулі. Скількома способами можна витягти 3 кулі, якщо вони повинні бути різних кольорів?"
   ]
  },
  {
   "cell_type": "markdown",
   "id": "3e1f435c-5533-4d5d-bf8f-c99275d9b1ec",
   "metadata": {},
   "source": [
    "Маю розрахувати скільки можливих комбінацій куль я отримаю, при їх перестановці в 3 позиціях, де порядок перестановки не має значення в данному випадку. Використаємо правило добутку (і)."
   ]
  },
  {
   "cell_type": "code",
   "execution_count": 44,
   "id": "a746c8de-73e1-44b1-b5bd-c27fd7fbcc7d",
   "metadata": {},
   "outputs": [
    {
     "data": {
      "text/plain": [
       "24"
      ]
     },
     "execution_count": 44,
     "metadata": {},
     "output_type": "execute_result"
    }
   ],
   "source": [
    "import numpy as np\n",
    "\n",
    "red_balls = 4\n",
    "blue_balls = 3\n",
    "green_balls = 2\n",
    "\n",
    "def calculation_multiplication(*args) -> int:\n",
    "    # C = a * b * ... * c \n",
    "    C = np.prod(args)\n",
    "    return C\n",
    "\n",
    "calculation_multiplication(red_balls, blue_balls, green_balls)\n"
   ]
  },
  {
   "cell_type": "code",
   "execution_count": null,
   "id": "d68e11a2-b273-4e1b-9e91-7d6e27b6335e",
   "metadata": {},
   "outputs": [],
   "source": []
  }
 ],
 "metadata": {
  "kernelspec": {
   "display_name": "Python 3 (ipykernel)",
   "language": "python",
   "name": "python3"
  },
  "language_info": {
   "codemirror_mode": {
    "name": "ipython",
    "version": 3
   },
   "file_extension": ".py",
   "mimetype": "text/x-python",
   "name": "python",
   "nbconvert_exporter": "python",
   "pygments_lexer": "ipython3",
   "version": "3.12.4"
  }
 },
 "nbformat": 4,
 "nbformat_minor": 5
}
