{
 "cells": [
  {
   "cell_type": "markdown",
   "id": "ccc41776-324d-4bbf-a2da-09607c579107",
   "metadata": {},
   "source": [
    "# Домашнє завдання до теми \"Ймовірність та її властивості\""
   ]
  },
  {
   "cell_type": "markdown",
   "id": "0fa832f8-4783-44ef-9fed-08cc430062c4",
   "metadata": {},
   "source": [
    "1. В урні знаходиться 15 білих, 5 червоних і 10 чорних куль. Випадковим чином витягується 1 куля, знайти ймовірність того, що вона буде: а) білою, б) червоною, в) чорною."
   ]
  },
  {
   "cell_type": "code",
   "execution_count": 185,
   "id": "9560fd18-89cc-4564-9682-24b5de5902f9",
   "metadata": {},
   "outputs": [
    {
     "data": {
      "text/plain": [
       "[0.5, 0.16666666666666666, 0.3333333333333333]"
      ]
     },
     "execution_count": 185,
     "metadata": {},
     "output_type": "execute_result"
    }
   ],
   "source": [
    "list_of_balls = [15, 5, 10]\n",
    "total_balls = sum(list_of_balls)\n",
    "probability_of_event_balls = []\n",
    "\n",
    "def calculation_probability_of_event(element:int, total_elements: int) -> float:\n",
    "    # p(a) (ймовірність події) = n(a)(кількісь елементів) / n(s) (загальна кількість елементів)\n",
    "    probability_of_event = element / total_elements\n",
    "    return probability_of_event\n",
    "\n",
    "for balls in list_of_balls:\n",
    "    probability_of_event_ball = calculation_probability_of_event(balls, total_balls)\n",
    "    probability_of_event_balls.append(probability_of_event_ball)\n",
    "\n",
    "probability_of_event_balls\n",
    "# 1 - 15/30 = 3/6 = 1/2\n",
    "# 2 - 5/30 = 1/6\n",
    "# 3 - 10/30 = 1/3"
   ]
  },
  {
   "cell_type": "markdown",
   "id": "a9e12f03-353e-4559-802f-7bc6f894dc29",
   "metadata": {},
   "source": [
    "2. В магазин надійшло 30 холодильників, п'ять з яких мають заводський дефект. Випадковим чином обирають один холодильник. Яка ймовірність того, що він буде без дефекту?"
   ]
  },
  {
   "cell_type": "code",
   "execution_count": 187,
   "id": "e053274d-203c-4676-8256-0123c8938ce9",
   "metadata": {},
   "outputs": [
    {
     "data": {
      "text/plain": [
       "0.8333333333333334"
      ]
     },
     "execution_count": 187,
     "metadata": {},
     "output_type": "execute_result"
    }
   ],
   "source": [
    "total_refrigerators = 30\n",
    "refrigerator_with_defects = 5\n",
    "refrigerator_without_defects = total_refrigerators - refrigerator_with_defects\n",
    "probability_of_event_refrigerator_without_defects = calculation_probability_of_event(refrigerator_without_defects, total_refrigerators)\n",
    "probability_of_event_refrigerator_without_defects"
   ]
  },
  {
   "cell_type": "markdown",
   "id": "e6daff0e-77b2-4d2b-bc45-7833bb0d1645",
   "metadata": {},
   "source": [
    "3. Набираючи номер телефону, абонент забув дві останні цифри, але пам'ятає, що одна з них — нуль, а інша — непарна. Знайти ймовірність того, що він набере правильний номер."
   ]
  },
  {
   "cell_type": "code",
   "execution_count": 189,
   "id": "ee75e979-19f0-4a26-9cb0-9b710c7d8f59",
   "metadata": {},
   "outputs": [
    {
     "data": {
      "text/plain": [
       "0.1"
      ]
     },
     "execution_count": 189,
     "metadata": {},
     "output_type": "execute_result"
    }
   ],
   "source": [
    "# number_1 = 0\n",
    "# number_2 = {1,3,5,7,9}\n",
    "# 5 - можливих варіантів другої цифри\n",
    "# 5 * 2 = 10 - загальна кількість можливих подій, де 2 - розміщення цифри 0 в останніх 2 цифрах\n",
    "# 1 - ймовірність події набору правильного номеру\n",
    "probability_of_total_events = 10\n",
    "probability_of_right_events = 1\n",
    "\n",
    "probability_of_right_event = calculation_probability_of_event(probability_of_right_events, probability_of_total_events)\n",
    "probability_of_right_event"
   ]
  },
  {
   "cell_type": "markdown",
   "id": "ac5b86bc-daec-4247-8092-d4723fd06de4",
   "metadata": {},
   "source": [
    "4. Знайти ймовірність того, що при кидку двох гральних кубиків добуток чисел на них:\n",
    "    \n",
    "    а) дорівнюватиме семи;\n",
    "    б) буде не меншим за 20;\n",
    "    в) буде парним."
   ]
  },
  {
   "cell_type": "code",
   "execution_count": 191,
   "id": "b2883eaa-1848-42a8-86e4-b63dc9ec4c61",
   "metadata": {},
   "outputs": [
    {
     "name": "stdout",
     "output_type": "stream",
     "text": [
      "[(1, 1), (1, 2), (1, 3), (1, 4), (1, 5), (1, 6), (2, 1), (2, 2), (2, 3), (2, 4), (2, 5), (2, 6), (3, 1), (3, 2), (3, 3), (3, 4), (3, 5), (3, 6), (4, 1), (4, 2), (4, 3), (4, 4), (4, 5), (4, 6), (5, 1), (5, 2), (5, 3), (5, 4), (5, 5), (5, 6), (6, 1), (6, 2), (6, 3), (6, 4), (6, 5), (6, 6)]\n",
      "36\n",
      "а) Ймовірність того, що при кидку двох гральних кубиків добуток чисел дорівнюватиме семи: 0.0\n",
      "а_1) Ймовірність того, що при кидку двох гральних кубиків добуток чисел дорівнюватиме семи: 0.0\n",
      "б) Ймовірність того, що при кидку двох гральних кубиків добуток чисел буде не меншим за 20: 0.2222222222222222\n",
      "в) Ймовірність того, що при кидку двох гральних кубиків добуток чисел буде парним 0.75\n"
     ]
    }
   ],
   "source": [
    "total_probability_of_event_cube = 6\n",
    "list_probability_of_event_cubes = [(i, j) for i in range(1, total_probability_of_event_cube + 1) for j in range(1, total_probability_of_event_cube + 1)]\n",
    "print(list_probability_of_events_cubes)\n",
    "# result_of_events_cubes_1 = 7\n",
    "# result_of_events_cubes_2 >= 20\n",
    "# result_of_events_cubes_3 % 2 == 0\n",
    "\n",
    "# Загальна ймовірність кидку двох гральніх кубиків, тобто спрацює правило добутку (або len(list_probability_of_event_cubes))\n",
    "total_probability_of_events_cubes = total_probability_of_event_cube * total_probability_of_event_cube\n",
    "print(total_probability_of_events_cubes)\n",
    "\n",
    "# Йморівність того, що добуток чисел при кидку двох гральних кубиків дорівнює 7 = 0, так як можливі варіанти добудтку 1*7 або 7*1, 7 - немає такої цифри на гральному кубику\n",
    "probability_of_events_cubes_1 = calculation_probability_of_event(0, total_probability_of_events_cubes)\n",
    "print('а) Ймовірність того, що при кидку двох гральних кубиків добуток чисел дорівнюватиме семи:', probability_of_events_cubes_1)\n",
    "\n",
    "# або\n",
    "list_probability_of_event_cubes_1_1 = [option for option in list_probability_of_event_cubes if option[0] * option[1] == 7]\n",
    "probability_of_event_cubes_1_1 = len(list_probability_of_event_cubes_1_1)\n",
    "probability_of_events_cubes_1_1 = calculation_probability_of_event(probability_of_event_cubes_1_1, total_probability_of_events_cubes)\n",
    "print('а_1) Ймовірність того, що при кидку двох гральних кубиків добуток чисел дорівнюватиме семи:', probability_of_events_cubes_1_1)\n",
    "\n",
    "list_probability_of_event_cubes_2 = [option for option in list_probability_of_event_cubes if option[0] * option[1] >= 20]\n",
    "probability_of_event_cubes_2 = len(list_probability_of_event_cubes_2)\n",
    "probability_of_events_cubes_2 = calculation_probability_of_event(probability_of_event_cubes_2, total_probability_of_events_cubes)\n",
    "print('б) Ймовірність того, що при кидку двох гральних кубиків добуток чисел буде не меншим за 20:', probability_of_events_cubes_2)\n",
    "\n",
    "list_probability_of_event_cubes_3 = [option for option in list_probability_of_event_cubes if option[0] * option[1] % 2 == 0]\n",
    "probability_of_event_cubes_3 = len(list_probability_of_event_cubes_3)\n",
    "probability_of_events_cubes_3 = calculation_probability_of_event(probability_of_event_cubes_3, total_probability_of_events_cubes)\n",
    "print('в) Ймовірність того, що при кидку двох гральних кубиків добуток чисел буде парним', probability_of_events_cubes_3)"
   ]
  },
  {
   "cell_type": "markdown",
   "id": "a3ddc24e-efd5-4fe2-8762-757dc8f50c9c",
   "metadata": {},
   "source": [
    "Ймовірність того, що на тесті з біології учень О. правильно розв'яже більше 11 задач, дорівнює 0,67. Ймовірність того, що О. правильно розв'яже більше 10 задач, дорівнює 0,74. Знайдіть ймовірність того, що О. правильно розв'яже рівно 11 задач."
   ]
  },
  {
   "cell_type": "code",
   "execution_count": 197,
   "id": "4f36a40a-45e9-42d7-a740-143f115d8cf6",
   "metadata": {},
   "outputs": [
    {
     "data": {
      "text/plain": [
       "0.06999999999999995"
      ]
     },
     "execution_count": 197,
     "metadata": {},
     "output_type": "execute_result"
    }
   ],
   "source": [
    "#  < 11 = 0.67 \n",
    "#  < 10 = 0.74\n",
    "#  = 11 = ?\n",
    "# Треба розрахувати різницю між тим, що учень О. правильно розв'яже більше 10 задач та правильно розв'яже більше 11 задач, щоб дізнатись скільки дорівнює ймовірність розрахунку рівно 11 задач\n",
    "P_a = 0.67\n",
    "P_b = 0.74\n",
    "P_c = P_b - P_a\n",
    "P_c"
   ]
  },
  {
   "cell_type": "code",
   "execution_count": null,
   "id": "d3c0fe30-daff-4c52-afb0-9b7a7388e3f3",
   "metadata": {},
   "outputs": [],
   "source": []
  }
 ],
 "metadata": {
  "kernelspec": {
   "display_name": "Python 3 (ipykernel)",
   "language": "python",
   "name": "python3"
  },
  "language_info": {
   "codemirror_mode": {
    "name": "ipython",
    "version": 3
   },
   "file_extension": ".py",
   "mimetype": "text/x-python",
   "name": "python",
   "nbconvert_exporter": "python",
   "pygments_lexer": "ipython3",
   "version": "3.12.4"
  }
 },
 "nbformat": 4,
 "nbformat_minor": 5
}
