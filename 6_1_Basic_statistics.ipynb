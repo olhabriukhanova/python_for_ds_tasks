{
 "cells": [
  {
   "cell_type": "markdown",
   "metadata": {
    "id": "SDhaTqxcWhnP"
   },
   "source": [
    "В цьому домашньому завданні відпрацюємо з вами знання, отримані в модулі зі статистики.\n",
    "\n",
    "**Завдання 1.** Ми обговорили з Вами на лекції, що велика літера Сігма грецького алфавіту позначає в математиці суму. Знайдіть з використанням Python $\\Sigma x$, $\\Sigma x^2$, та $\\Sigma (x-1)^2$ для наступного набору даних:\n",
    "`1 3 4`\n",
    "Виведіть результат кожного обчислення на екран."
   ]
  },
  {
   "cell_type": "code",
   "execution_count": 7,
   "metadata": {
    "id": "B1mgx_IBT0e8"
   },
   "outputs": [
    {
     "name": "stdout",
     "output_type": "stream",
     "text": [
      "8 26 13\n"
     ]
    }
   ],
   "source": [
    "x = [1, 3, 4]\n",
    "\n",
    "sum_x = sum(x)\n",
    "sum_x_squared = sum(el**2 for el in x)\n",
    "sum_x_minus_1_squared = sum((el - 1)**2 for el in x)\n",
    "print(sum_x, sum_x_squared, sum_x_minus_1_squared)"
   ]
  },
  {
   "cell_type": "markdown",
   "metadata": {
    "id": "fa78aW5lhiia"
   },
   "source": [
    "**Завдання 2.** Ми зібрали дані про суму покупок в гривнях 20ма випадково обраними клієнтами в нашому магазині (всього клієнтів у нас більше) за минулий місяць. Вони представлені в змінній `sum_purchases`. Знайдіть **вибіркове середнє** для цих даних кожним з зазначених методів:   \n",
    "\n",
    "  2.1. без використання жодних бібліотек, користуючись тільки Python.  \n",
    "  2.2. використовуючи відповідний метод бібліотеки `numpy`.\n",
    "\n",
    "  Виведіть результат обчислень в кожному з випадків на екран та порівняйте результати. Вони співпадають?"
   ]
  },
  {
   "cell_type": "code",
   "execution_count": 11,
   "metadata": {
    "id": "_9kMt3rq6V5m"
   },
   "outputs": [],
   "source": [
    "sum_purchases = [ 316,  493,  367,  153,  224,  121,  322,  450,  196,  397,  281,\n",
    "  239,  484,  124,  223,  448,  432,  255, 4310, 3524]"
   ]
  },
  {
   "cell_type": "code",
   "execution_count": 50,
   "metadata": {
    "id": "wPmL919HT1c0"
   },
   "outputs": [
    {
     "name": "stdout",
     "output_type": "stream",
     "text": [
      "667.95\n",
      "667.95\n"
     ]
    }
   ],
   "source": [
    "# 2.1\n",
    "sum_purchases_len = len(sum_purchases)\n",
    "sum_purchases_mean = sum(sum_purchases) / sum_purchases_len\n",
    "print(sum_purchases_mean)\n",
    "\n",
    "# 2.2\n",
    "import numpy as np\n",
    "sum_purchases_mean_np = np.mean(sum_purchases)\n",
    "print(sum_purchases_mean_np)"
   ]
  },
  {
   "cell_type": "markdown",
   "metadata": {
    "id": "FMdoxZd0kZdW"
   },
   "source": [
    "**Завдання 3.** Для того ж набору даних в змінній `sum_purchases` обчисліть **медіану** кожним з зазначених методів:  \n",
    "\n",
    "  3.1. без використання жодних бібліотек, користуючись тільки Python.  \n",
    "  3.2. використовуючи відповідний метод бібліотеки numpy.  \n",
    "\n",
    "Виведіть результат обчислень в кожному з випадків на екран. Порівняйте результати зі значенням вибіркового середнього. Напишіть коментар, для яких задач ви б використовували вибіркове середнє, а для яких - медіану?"
   ]
  },
  {
   "cell_type": "code",
   "execution_count": 46,
   "metadata": {
    "id": "x58BumvuT2nl"
   },
   "outputs": [
    {
     "name": "stdout",
     "output_type": "stream",
     "text": [
      "319.0\n",
      "319.0\n"
     ]
    }
   ],
   "source": [
    "# 3.1\n",
    "def median_calculation(data: list):\n",
    "    data_len = len(data)\n",
    "    data_sorted = sorted(data)\n",
    "\n",
    "    if data_len % 2 == 1:\n",
    "        median = data_sorted[data_len // 2]\n",
    "    else:\n",
    "        median = (data_sorted[data_len // 2 - 1] + data_sorted[data_len // 2]) / 2\n",
    "    return median\n",
    "\n",
    "sum_purchases_median = median_calculation(sum_purchases)\n",
    "print(sum_purchases_median)\n",
    "\n",
    "# 3.2\n",
    "sum_purchases_median_np = np.median(sum_purchases)\n",
    "print(sum_purchases_median_np)"
   ]
  },
  {
   "cell_type": "markdown",
   "metadata": {
    "id": "o1Z7az2yNDQV"
   },
   "source": [
    "**Завдання 4**. Обчислість стандартне відхилення наведеної вибірки в змінній `sum_purchases` кожним з зазначених методів:  \n",
    "\n",
    "  4.1. без використання жодних бібліотек, користуючись тільки Python.  \n",
    "  4.2. використовуючи відповідний метод бібліотеки numpy.  \n",
    "\n",
    "Виведіть результат обчислень в кожному з випадків на екран."
   ]
  },
  {
   "cell_type": "code",
   "execution_count": 54,
   "metadata": {
    "id": "X4ixtmL2T642"
   },
   "outputs": [
    {
     "name": "stdout",
     "output_type": "stream",
     "text": [
      "1124.5433447451132\n",
      "1124.5433447451132\n"
     ]
    }
   ],
   "source": [
    "# 4.1\n",
    "sum_purchases_minus_mean = [(el - sum_purchases_mean)**2 for el in sum_purchases]\n",
    "sum_purchases_std = np.sqrt(sum(sum_purchases_minus_mean)/(len(sum_purchases)-1))\n",
    "print(sum_purchases_std)\n",
    "\n",
    "# 4.2\n",
    "sum_purchases_std_np = np.std(sum_purchases, ddof=1)\n",
    "print(sum_purchases_std_np)"
   ]
  },
  {
   "cell_type": "markdown",
   "metadata": {
    "id": "M1ntKTjXLVlH"
   },
   "source": [
    "**Завдання 5**. Ми провели дослідження віку студентів-першокурсників. Виявилось, що\n",
    "- 10 студентів мають вік 16 років\n",
    "- 25 студентів - 17 років\n",
    "- 20 студентів - 18 років\n",
    "- 2 студенти - 20 років\n",
    "\n",
    "Обчислість середнє значення для цієї вибірки будь-яким способом - на чистому Python або з numpy - та виведіть результат на екран."
   ]
  },
  {
   "cell_type": "code",
   "execution_count": 62,
   "metadata": {
    "id": "RdIU4M-7T8R4"
   },
   "outputs": [
    {
     "name": "stdout",
     "output_type": "stream",
     "text": [
      "17.280701754385966\n"
     ]
    }
   ],
   "source": [
    "freshman_ages = [16] * 10 + [17] * 25 + [18] * 20 + [20] * 2\n",
    "freshman_ages_mean = np.mean(freshman_ages)\n",
    "print(freshman_ages_mean)"
   ]
  },
  {
   "cell_type": "markdown",
   "metadata": {
    "id": "Xx8MFkkVM53z"
   },
   "source": [
    "**Завдання 6**. Крім даних про суму покупок, ми зібрали ще дані про кількість відвідувань кожного з кожного покупця, які знаходяться в змінній `visits`. Обчисліть коефіцієнт кореляції Пірсона для суми покупок і кількості відвідувань кожним з зазначених методів:  \n",
    "\n",
    "  6.1. без використання жодних бібліотек, користуючись тільки Python.  \n",
    "  6.2. використовуючи відповідний метод бібліотеки numpy.  \n",
    "  \n",
    "Виведіть результат на екран. Проаналізуйте результат.\n",
    "\n",
    "Виведіть додатково графік розсіювання викликавши код нижче і зробіть заключення, чи варто щось змінити при підрахунку кореляції, аби коефіцієнт Пірсона показував коректну оцінку лінійної залежності?"
   ]
  },
  {
   "cell_type": "code",
   "execution_count": 64,
   "metadata": {
    "id": "4OIGBT7UOWhO"
   },
   "outputs": [],
   "source": [
    "visits = [ 6,  2, 10,  3,  9,  9,  2,  3,  6,  6, 10,  2,  5, 10,  3,  5,  4,\n",
    "        7,  4,  2]"
   ]
  },
  {
   "cell_type": "code",
   "execution_count": 90,
   "metadata": {
    "id": "YLNF7VbeT97Q"
   },
   "outputs": [
    {
     "name": "stdout",
     "output_type": "stream",
     "text": [
      "-0.30265844687666454\n",
      "[[ 1.         -0.30265845]\n",
      " [-0.30265845  1.        ]]\n"
     ]
    }
   ],
   "source": [
    "# 6.1\n",
    "visits_len = len(visits)\n",
    "visits_mean = sum(visits) / visits_len\n",
    "visits_minus_mean = [(el - visits_mean)**2 for el in visits]\n",
    "visits_std = np.sqrt(sum(visits_minus_mean)/(visits_len - 1))\n",
    "sum_purchases_visits = [ (sum_purchases[i] - sum_purchases_mean)*(visits[i] - visits_mean) for i in range(sum_purchases_len)]\n",
    "sum_purchases_visits_cov = sum(sum_purchases_visits)/(sum_purchases_len - 1)\n",
    "sum_purchases_visits_corrcoef = sum_purchases_visits_cov / (sum_purchases_std * visits_std)\n",
    "print(sum_purchases_visits_corrcoef)\n",
    "\n",
    "# 6.2\n",
    "sum_purchases_visits_corrcoef_np = np.corrcoef(sum_purchases, visits)\n",
    "print(sum_purchases_visits_corrcoef_np)"
   ]
  },
  {
   "cell_type": "code",
   "execution_count": 92,
   "metadata": {
    "colab": {
     "base_uri": "https://localhost:8080/",
     "height": 472
    },
    "id": "gaeoGA-5Prr1",
    "outputId": "0c910a7f-0e96-449a-881d-1efa453b3c8d"
   },
   "outputs": [
    {
     "data": {
      "image/png": "[encoded data removed]",
      "text/plain": [
       "<Figure size 640x480 with 1 Axes>"
      ]
     },
     "metadata": {},
     "output_type": "display_data"
    }
   ],
   "source": [
    "import matplotlib.pyplot as plt\n",
    "\n",
    "plt.scatter(sum_purchases, visits)\n",
    "plt.title('Scatter Plot of Purchases vs. Visits')\n",
    "plt.xlabel('Sum of Purchases')\n",
    "plt.ylabel('Number of Visits');"
   ]
  },
  {
   "cell_type": "markdown",
   "metadata": {},
   "source": [
    "На графіку розсіювання можемо побачити, що у нас для суми покупок є значення, які значно перевищують інші. Для коректного відображення оцінки лінійної залежності потрібно провести перевірку на викиди та за необхідності відфільтрувати їх перед підрахунком коефіцієнта Пірсона."
   ]
  },
  {
   "cell_type": "markdown",
   "metadata": {
    "id": "4pEg0KzSQ6KA"
   },
   "source": [
    "**Завдання 7**. В попередньому завданні ми помітили, що викиди нам заважають отримати \"правдиве\" значення кореляції. Давайте вилучимо записи, які відповідають значенням з викидами в сумі покупок і обчисліть коеф. кореляції. Для цього поставте `threshold`, який дорінює середньому значенню + 2 стандартних відхилення суми покупок і всі значення, які більше за нього, будемо вважати викидами (є і інші правила для визначення викидів - з ним и познайомимось пізніше).\n",
    "\n",
    "Вилучіть значення з обох масивів і обчисліть коеф. кореляції Пірсона з допомогою `numpy` для кількості візитів і суми покупок без записів-викидів. Виведіть результат на екран, побудуйте діаграму розсіювання і проаналізуйте результат: що можемо сказати про залежність в даних?"
   ]
  },
  {
   "cell_type": "code",
   "execution_count": 122,
   "metadata": {
    "id": "Yj3Yfaf7UBbc"
   },
   "outputs": [
    {
     "name": "stdout",
     "output_type": "stream",
     "text": [
      "2917.0366894902263 [[ 1.         -0.36852121]\n",
      " [-0.36852121  1.        ]]\n"
     ]
    }
   ],
   "source": [
    "threshold = sum_purchases_mean + sum_purchases_std * 2\n",
    "sum_purchases_with_threshold = []\n",
    "visits_with_threshold = []\n",
    "\n",
    "for i in range(sum_purchases_len):\n",
    "    if sum_purchases[i] < threshold:\n",
    "        sum_purchases_with_threshold.append(sum_purchases[i])\n",
    "        visits_with_threshold.append(visits[i])\n",
    "\n",
    "sum_purchases_visits_with_threshold_corrcoef_np = np.corrcoef(sum_purchases_with_threshold, visits_with_threshold)\n",
    "print(threshold, sum_purchases_visits_with_threshold_corrcoef_np)"
   ]
  },
  {
   "cell_type": "code",
   "execution_count": 124,
   "metadata": {},
   "outputs": [
    {
     "data": {
      "image/png": "[encoded data removed]",
      "text/plain": [
       "<Figure size 640x480 with 1 Axes>"
      ]
     },
     "metadata": {},
     "output_type": "display_data"
    }
   ],
   "source": [
    "plt.scatter(sum_purchases_with_threshold, visits_with_threshold)\n",
    "plt.title('Scatter Plot of Purchases vs. Visits (with threshold)')\n",
    "plt.xlabel('Sum of Purchases (with threshold)')\n",
    "plt.ylabel('Number of Visits (with threshold)');"
   ]
  },
  {
   "cell_type": "markdown",
   "metadata": {},
   "source": [
    "Побудувавши діаграму розсіювання з відфільтрованими даними без викидів, можемо побачити відсутність кореляції між сумою покупок і кількістю відвідувань."
   ]
  }
 ],
 "metadata": {
  "colab": {
   "provenance": []
  },
  "kernelspec": {
   "display_name": "Python 3 (ipykernel)",
   "language": "python",
   "name": "python3"
  },
  "language_info": {
   "codemirror_mode": {
    "name": "ipython",
    "version": 3
   },
   "file_extension": ".py",
   "mimetype": "text/x-python",
   "name": "python",
   "nbconvert_exporter": "python",
   "pygments_lexer": "ipython3",
   "version": "3.12.4"
  }
 },
 "nbformat": 4,
 "nbformat_minor": 4
}
